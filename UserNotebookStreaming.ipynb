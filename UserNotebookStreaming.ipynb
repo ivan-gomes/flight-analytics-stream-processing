{
 "cells": [
  {
   "cell_type": "markdown",
   "metadata": {},
   "source": [
    "# Purpose\n",
    "\n",
    "This notebook is a stand-in for a web application (e.g. distributed with AWS S3) that calls a web service (e.g. AWS API Gateway + Lambda), which queries DynamoDB for the data. Response is in real-time because the pre-computed results are stored in DynamoDB and the clients only have to present it. The service component is exemplified by `boto3` calling DynamoDB and `pandas` and Python being used to format it. The web application component is exemplified by Jupyter's built-in rendering capabilities for tables, `matplotlib` for plot generation, and `ipywidgets` for user interaction."
   ]
  },
  {
   "cell_type": "markdown",
   "metadata": {},
   "source": [
    "# Setup\n",
    "\n",
    "## Imports"
   ]
  },
  {
   "cell_type": "code",
   "execution_count": 24,
   "metadata": {
    "scrolled": false
   },
   "outputs": [],
   "source": [
    "import boto3\n",
    "import matplotlib.pyplot as plt\n",
    "import pomegranate as pg\n",
    "import ipywidgets as widgets\n",
    "import pandas as pd\n",
    "from IPython.display import Markdown, display, clear_output\n",
    "import numpy as np\n",
    "import datetime"
   ]
  },
  {
   "cell_type": "code",
   "execution_count": 25,
   "metadata": {
    "scrolled": false
   },
   "outputs": [],
   "source": [
    "dynamodb_resource = boto3.resource('dynamodb')\n",
    "dynamodb_client = boto3.client('dynamodb')"
   ]
  },
  {
   "cell_type": "markdown",
   "metadata": {},
   "source": [
    "# 2\n",
    "\n",
    "# 2.1\n",
    "\n",
    "> For each airport X, rank the top-10 carriers in decreasing order of on-time departure performance from X.\n",
    "\n",
    "> Provide the results using the following airport codes.\n",
    "> \n",
    "> * SRQ\n",
    "> * CMH\n",
    "> * JFK\n",
    "> * SEA\n",
    "> * BOS"
   ]
  },
  {
   "cell_type": "code",
   "execution_count": 26,
   "metadata": {
    "scrolled": false
   },
   "outputs": [
    {
     "data": {
      "application/vnd.jupyter.widget-view+json": {
       "model_id": "827835d78c624ed59980455a6d5af17d",
       "version_major": 2,
       "version_minor": 0
      },
      "text/plain": [
       "Text(value='', placeholder='Airport X')"
      ]
     },
     "metadata": {},
     "output_type": "display_data"
    },
    {
     "data": {
      "application/vnd.jupyter.widget-view+json": {
       "model_id": "6d36791f23bd40b789474f0a3b302f06",
       "version_major": 2,
       "version_minor": 0
      },
      "text/plain": [
       "Button(description='Submit', style=ButtonStyle())"
      ]
     },
     "metadata": {},
     "output_type": "display_data"
    }
   ],
   "source": [
    "def get21(airport): \n",
    "    table = dynamodb_resource.Table('ccc2-2-1')\n",
    "    response = table.get_item(Key={'key': airport})\n",
    "    return pd.DataFrame(response['Item']['value'])[['UniqueCarrier', 'Delay', 'Count']]\n",
    "\n",
    "airport_text = widgets.Text(placeholder='Airport X')\n",
    "display(airport_text)\n",
    "button = widgets.Button(description=\"Submit\")\n",
    "display(button)\n",
    "\n",
    "def on_button_clicked(b):\n",
    "    clear_output()\n",
    "    display(airport_text)\n",
    "    display(button)\n",
    "    display(Markdown('### ' + airport_text.value))\n",
    "    display(get21(airport_text.value))\n",
    "\n",
    "button.on_click(on_button_clicked)"
   ]
  },
  {
   "cell_type": "code",
   "execution_count": 27,
   "metadata": {
    "scrolled": false
   },
   "outputs": [
    {
     "data": {
      "text/markdown": [
       "### SRQ"
      ],
      "text/plain": [
       "<IPython.core.display.Markdown object>"
      ]
     },
     "metadata": {},
     "output_type": "display_data"
    },
    {
     "data": {
      "text/html": [
       "<div>\n",
       "<style scoped>\n",
       "    .dataframe tbody tr th:only-of-type {\n",
       "        vertical-align: middle;\n",
       "    }\n",
       "\n",
       "    .dataframe tbody tr th {\n",
       "        vertical-align: top;\n",
       "    }\n",
       "\n",
       "    .dataframe thead th {\n",
       "        text-align: right;\n",
       "    }\n",
       "</style>\n",
       "<table border=\"1\" class=\"dataframe\">\n",
       "  <thead>\n",
       "    <tr style=\"text-align: right;\">\n",
       "      <th></th>\n",
       "      <th>UniqueCarrier</th>\n",
       "      <th>Delay</th>\n",
       "      <th>Count</th>\n",
       "    </tr>\n",
       "  </thead>\n",
       "  <tbody>\n",
       "    <tr>\n",
       "      <th>0</th>\n",
       "      <td>TZ</td>\n",
       "      <td>-0.38199697428139184</td>\n",
       "      <td>1322</td>\n",
       "    </tr>\n",
       "    <tr>\n",
       "      <th>1</th>\n",
       "      <td>XE</td>\n",
       "      <td>1.4897667777248929</td>\n",
       "      <td>2101</td>\n",
       "    </tr>\n",
       "    <tr>\n",
       "      <th>2</th>\n",
       "      <td>YV</td>\n",
       "      <td>3.4040219378427787</td>\n",
       "      <td>1094</td>\n",
       "    </tr>\n",
       "    <tr>\n",
       "      <th>3</th>\n",
       "      <td>AA</td>\n",
       "      <td>3.6334985133795836</td>\n",
       "      <td>10090</td>\n",
       "    </tr>\n",
       "    <tr>\n",
       "      <th>4</th>\n",
       "      <td>UA</td>\n",
       "      <td>3.9521220624342335</td>\n",
       "      <td>5702</td>\n",
       "    </tr>\n",
       "    <tr>\n",
       "      <th>5</th>\n",
       "      <td>US</td>\n",
       "      <td>3.9683982896741536</td>\n",
       "      <td>20347</td>\n",
       "    </tr>\n",
       "    <tr>\n",
       "      <th>6</th>\n",
       "      <td>TW</td>\n",
       "      <td>4.3046760650181035</td>\n",
       "      <td>12981</td>\n",
       "    </tr>\n",
       "    <tr>\n",
       "      <th>7</th>\n",
       "      <td>NW</td>\n",
       "      <td>4.856359241353663</td>\n",
       "      <td>10756</td>\n",
       "    </tr>\n",
       "    <tr>\n",
       "      <th>8</th>\n",
       "      <td>DL</td>\n",
       "      <td>4.8691794341573456</td>\n",
       "      <td>53195</td>\n",
       "    </tr>\n",
       "    <tr>\n",
       "      <th>9</th>\n",
       "      <td>MQ</td>\n",
       "      <td>5.350588235294118</td>\n",
       "      <td>425</td>\n",
       "    </tr>\n",
       "  </tbody>\n",
       "</table>\n",
       "</div>"
      ],
      "text/plain": [
       "  UniqueCarrier                 Delay  Count\n",
       "0            TZ  -0.38199697428139184   1322\n",
       "1            XE    1.4897667777248929   2101\n",
       "2            YV    3.4040219378427787   1094\n",
       "3            AA    3.6334985133795836  10090\n",
       "4            UA    3.9521220624342335   5702\n",
       "5            US    3.9683982896741536  20347\n",
       "6            TW    4.3046760650181035  12981\n",
       "7            NW     4.856359241353663  10756\n",
       "8            DL    4.8691794341573456  53195\n",
       "9            MQ     5.350588235294118    425"
      ]
     },
     "metadata": {},
     "output_type": "display_data"
    },
    {
     "data": {
      "text/markdown": [
       "### CMH"
      ],
      "text/plain": [
       "<IPython.core.display.Markdown object>"
      ]
     },
     "metadata": {},
     "output_type": "display_data"
    },
    {
     "data": {
      "text/html": [
       "<div>\n",
       "<style scoped>\n",
       "    .dataframe tbody tr th:only-of-type {\n",
       "        vertical-align: middle;\n",
       "    }\n",
       "\n",
       "    .dataframe tbody tr th {\n",
       "        vertical-align: top;\n",
       "    }\n",
       "\n",
       "    .dataframe thead th {\n",
       "        text-align: right;\n",
       "    }\n",
       "</style>\n",
       "<table border=\"1\" class=\"dataframe\">\n",
       "  <thead>\n",
       "    <tr style=\"text-align: right;\">\n",
       "      <th></th>\n",
       "      <th>UniqueCarrier</th>\n",
       "      <th>Delay</th>\n",
       "      <th>Count</th>\n",
       "    </tr>\n",
       "  </thead>\n",
       "  <tbody>\n",
       "    <tr>\n",
       "      <th>0</th>\n",
       "      <td>DH</td>\n",
       "      <td>3.491114701130856</td>\n",
       "      <td>4952</td>\n",
       "    </tr>\n",
       "    <tr>\n",
       "      <th>1</th>\n",
       "      <td>AA</td>\n",
       "      <td>3.5139262599083705</td>\n",
       "      <td>41253</td>\n",
       "    </tr>\n",
       "    <tr>\n",
       "      <th>2</th>\n",
       "      <td>NW</td>\n",
       "      <td>4.0415550052579805</td>\n",
       "      <td>58958</td>\n",
       "    </tr>\n",
       "    <tr>\n",
       "      <th>3</th>\n",
       "      <td>ML (1)</td>\n",
       "      <td>4.366459627329193</td>\n",
       "      <td>1288</td>\n",
       "    </tr>\n",
       "    <tr>\n",
       "      <th>4</th>\n",
       "      <td>DL</td>\n",
       "      <td>4.713441339740944</td>\n",
       "      <td>75119</td>\n",
       "    </tr>\n",
       "    <tr>\n",
       "      <th>5</th>\n",
       "      <td>PI</td>\n",
       "      <td>5.2012948793407885</td>\n",
       "      <td>1699</td>\n",
       "    </tr>\n",
       "    <tr>\n",
       "      <th>6</th>\n",
       "      <td>EA</td>\n",
       "      <td>5.937389380530973</td>\n",
       "      <td>4520</td>\n",
       "    </tr>\n",
       "    <tr>\n",
       "      <th>7</th>\n",
       "      <td>US</td>\n",
       "      <td>5.993296353520258</td>\n",
       "      <td>118443</td>\n",
       "    </tr>\n",
       "    <tr>\n",
       "      <th>8</th>\n",
       "      <td>TW</td>\n",
       "      <td>6.159097425311084</td>\n",
       "      <td>34878</td>\n",
       "    </tr>\n",
       "    <tr>\n",
       "      <th>9</th>\n",
       "      <td>YV</td>\n",
       "      <td>7.9611913357400725</td>\n",
       "      <td>1108</td>\n",
       "    </tr>\n",
       "  </tbody>\n",
       "</table>\n",
       "</div>"
      ],
      "text/plain": [
       "  UniqueCarrier               Delay   Count\n",
       "0            DH   3.491114701130856    4952\n",
       "1            AA  3.5139262599083705   41253\n",
       "2            NW  4.0415550052579805   58958\n",
       "3        ML (1)   4.366459627329193    1288\n",
       "4            DL   4.713441339740944   75119\n",
       "5            PI  5.2012948793407885    1699\n",
       "6            EA   5.937389380530973    4520\n",
       "7            US   5.993296353520258  118443\n",
       "8            TW   6.159097425311084   34878\n",
       "9            YV  7.9611913357400725    1108"
      ]
     },
     "metadata": {},
     "output_type": "display_data"
    },
    {
     "data": {
      "text/markdown": [
       "### JFK"
      ],
      "text/plain": [
       "<IPython.core.display.Markdown object>"
      ]
     },
     "metadata": {},
     "output_type": "display_data"
    },
    {
     "data": {
      "text/html": [
       "<div>\n",
       "<style scoped>\n",
       "    .dataframe tbody tr th:only-of-type {\n",
       "        vertical-align: middle;\n",
       "    }\n",
       "\n",
       "    .dataframe tbody tr th {\n",
       "        vertical-align: top;\n",
       "    }\n",
       "\n",
       "    .dataframe thead th {\n",
       "        text-align: right;\n",
       "    }\n",
       "</style>\n",
       "<table border=\"1\" class=\"dataframe\">\n",
       "  <thead>\n",
       "    <tr style=\"text-align: right;\">\n",
       "      <th></th>\n",
       "      <th>UniqueCarrier</th>\n",
       "      <th>Delay</th>\n",
       "      <th>Count</th>\n",
       "    </tr>\n",
       "  </thead>\n",
       "  <tbody>\n",
       "    <tr>\n",
       "      <th>0</th>\n",
       "      <td>UA</td>\n",
       "      <td>5.968325364871665</td>\n",
       "      <td>95376</td>\n",
       "    </tr>\n",
       "    <tr>\n",
       "      <th>1</th>\n",
       "      <td>XE</td>\n",
       "      <td>8.113736263736264</td>\n",
       "      <td>1820</td>\n",
       "    </tr>\n",
       "    <tr>\n",
       "      <th>2</th>\n",
       "      <td>CO</td>\n",
       "      <td>8.201208081649657</td>\n",
       "      <td>4801</td>\n",
       "    </tr>\n",
       "    <tr>\n",
       "      <th>3</th>\n",
       "      <td>DH</td>\n",
       "      <td>8.742980908069951</td>\n",
       "      <td>12466</td>\n",
       "    </tr>\n",
       "    <tr>\n",
       "      <th>4</th>\n",
       "      <td>AA</td>\n",
       "      <td>10.080735583893281</td>\n",
       "      <td>222789</td>\n",
       "    </tr>\n",
       "    <tr>\n",
       "      <th>5</th>\n",
       "      <td>B6</td>\n",
       "      <td>11.127096222728753</td>\n",
       "      <td>245680</td>\n",
       "    </tr>\n",
       "    <tr>\n",
       "      <th>6</th>\n",
       "      <td>PA (1)</td>\n",
       "      <td>11.523478655767484</td>\n",
       "      <td>44040</td>\n",
       "    </tr>\n",
       "    <tr>\n",
       "      <th>7</th>\n",
       "      <td>NW</td>\n",
       "      <td>11.637817716512535</td>\n",
       "      <td>17193</td>\n",
       "    </tr>\n",
       "    <tr>\n",
       "      <th>8</th>\n",
       "      <td>DL</td>\n",
       "      <td>11.986673184147481</td>\n",
       "      <td>186166</td>\n",
       "    </tr>\n",
       "    <tr>\n",
       "      <th>9</th>\n",
       "      <td>TW</td>\n",
       "      <td>12.639071414087718</td>\n",
       "      <td>182471</td>\n",
       "    </tr>\n",
       "  </tbody>\n",
       "</table>\n",
       "</div>"
      ],
      "text/plain": [
       "  UniqueCarrier               Delay   Count\n",
       "0            UA   5.968325364871665   95376\n",
       "1            XE   8.113736263736264    1820\n",
       "2            CO   8.201208081649657    4801\n",
       "3            DH   8.742980908069951   12466\n",
       "4            AA  10.080735583893281  222789\n",
       "5            B6  11.127096222728753  245680\n",
       "6        PA (1)  11.523478655767484   44040\n",
       "7            NW  11.637817716512535   17193\n",
       "8            DL  11.986673184147481  186166\n",
       "9            TW  12.639071414087718  182471"
      ]
     },
     "metadata": {},
     "output_type": "display_data"
    },
    {
     "data": {
      "text/markdown": [
       "### SEA"
      ],
      "text/plain": [
       "<IPython.core.display.Markdown object>"
      ]
     },
     "metadata": {},
     "output_type": "display_data"
    },
    {
     "data": {
      "text/html": [
       "<div>\n",
       "<style scoped>\n",
       "    .dataframe tbody tr th:only-of-type {\n",
       "        vertical-align: middle;\n",
       "    }\n",
       "\n",
       "    .dataframe tbody tr th {\n",
       "        vertical-align: top;\n",
       "    }\n",
       "\n",
       "    .dataframe thead th {\n",
       "        text-align: right;\n",
       "    }\n",
       "</style>\n",
       "<table border=\"1\" class=\"dataframe\">\n",
       "  <thead>\n",
       "    <tr style=\"text-align: right;\">\n",
       "      <th></th>\n",
       "      <th>UniqueCarrier</th>\n",
       "      <th>Delay</th>\n",
       "      <th>Count</th>\n",
       "    </tr>\n",
       "  </thead>\n",
       "  <tbody>\n",
       "    <tr>\n",
       "      <th>0</th>\n",
       "      <td>OO</td>\n",
       "      <td>2.7058196546578555</td>\n",
       "      <td>28146</td>\n",
       "    </tr>\n",
       "    <tr>\n",
       "      <th>1</th>\n",
       "      <td>PS</td>\n",
       "      <td>4.720639332870048</td>\n",
       "      <td>1439</td>\n",
       "    </tr>\n",
       "    <tr>\n",
       "      <th>2</th>\n",
       "      <td>YV</td>\n",
       "      <td>5.122262773722627</td>\n",
       "      <td>548</td>\n",
       "    </tr>\n",
       "    <tr>\n",
       "      <th>3</th>\n",
       "      <td>TZ</td>\n",
       "      <td>6.345003933910307</td>\n",
       "      <td>2542</td>\n",
       "    </tr>\n",
       "    <tr>\n",
       "      <th>4</th>\n",
       "      <td>US</td>\n",
       "      <td>6.412384182257776</td>\n",
       "      <td>61627</td>\n",
       "    </tr>\n",
       "    <tr>\n",
       "      <th>5</th>\n",
       "      <td>NW</td>\n",
       "      <td>6.498762407390315</td>\n",
       "      <td>119183</td>\n",
       "    </tr>\n",
       "    <tr>\n",
       "      <th>6</th>\n",
       "      <td>DL</td>\n",
       "      <td>6.53562132870614</td>\n",
       "      <td>140618</td>\n",
       "    </tr>\n",
       "    <tr>\n",
       "      <th>7</th>\n",
       "      <td>HA</td>\n",
       "      <td>6.855452674897119</td>\n",
       "      <td>3888</td>\n",
       "    </tr>\n",
       "    <tr>\n",
       "      <th>8</th>\n",
       "      <td>AA</td>\n",
       "      <td>6.939152588687252</td>\n",
       "      <td>124426</td>\n",
       "    </tr>\n",
       "    <tr>\n",
       "      <th>9</th>\n",
       "      <td>CO</td>\n",
       "      <td>7.096458868617853</td>\n",
       "      <td>69667</td>\n",
       "    </tr>\n",
       "  </tbody>\n",
       "</table>\n",
       "</div>"
      ],
      "text/plain": [
       "  UniqueCarrier               Delay   Count\n",
       "0            OO  2.7058196546578555   28146\n",
       "1            PS   4.720639332870048    1439\n",
       "2            YV   5.122262773722627     548\n",
       "3            TZ   6.345003933910307    2542\n",
       "4            US   6.412384182257776   61627\n",
       "5            NW   6.498762407390315  119183\n",
       "6            DL    6.53562132870614  140618\n",
       "7            HA   6.855452674897119    3888\n",
       "8            AA   6.939152588687252  124426\n",
       "9            CO   7.096458868617853   69667"
      ]
     },
     "metadata": {},
     "output_type": "display_data"
    },
    {
     "data": {
      "text/markdown": [
       "### BOS"
      ],
      "text/plain": [
       "<IPython.core.display.Markdown object>"
      ]
     },
     "metadata": {},
     "output_type": "display_data"
    },
    {
     "data": {
      "text/html": [
       "<div>\n",
       "<style scoped>\n",
       "    .dataframe tbody tr th:only-of-type {\n",
       "        vertical-align: middle;\n",
       "    }\n",
       "\n",
       "    .dataframe tbody tr th {\n",
       "        vertical-align: top;\n",
       "    }\n",
       "\n",
       "    .dataframe thead th {\n",
       "        text-align: right;\n",
       "    }\n",
       "</style>\n",
       "<table border=\"1\" class=\"dataframe\">\n",
       "  <thead>\n",
       "    <tr style=\"text-align: right;\">\n",
       "      <th></th>\n",
       "      <th>UniqueCarrier</th>\n",
       "      <th>Delay</th>\n",
       "      <th>Count</th>\n",
       "    </tr>\n",
       "  </thead>\n",
       "  <tbody>\n",
       "    <tr>\n",
       "      <th>0</th>\n",
       "      <td>TZ</td>\n",
       "      <td>3.0637920850561136</td>\n",
       "      <td>3386</td>\n",
       "    </tr>\n",
       "    <tr>\n",
       "      <th>1</th>\n",
       "      <td>PA (1)</td>\n",
       "      <td>4.447164795047816</td>\n",
       "      <td>25201</td>\n",
       "    </tr>\n",
       "    <tr>\n",
       "      <th>2</th>\n",
       "      <td>ML (1)</td>\n",
       "      <td>5.734775641025641</td>\n",
       "      <td>1248</td>\n",
       "    </tr>\n",
       "    <tr>\n",
       "      <th>3</th>\n",
       "      <td>EV</td>\n",
       "      <td>7.208137715179968</td>\n",
       "      <td>639</td>\n",
       "    </tr>\n",
       "    <tr>\n",
       "      <th>4</th>\n",
       "      <td>NW</td>\n",
       "      <td>7.245188786506978</td>\n",
       "      <td>143363</td>\n",
       "    </tr>\n",
       "    <tr>\n",
       "      <th>5</th>\n",
       "      <td>DL</td>\n",
       "      <td>7.445339060304795</td>\n",
       "      <td>372972</td>\n",
       "    </tr>\n",
       "    <tr>\n",
       "      <th>6</th>\n",
       "      <td>XE</td>\n",
       "      <td>8.10292249047014</td>\n",
       "      <td>2361</td>\n",
       "    </tr>\n",
       "    <tr>\n",
       "      <th>7</th>\n",
       "      <td>US</td>\n",
       "      <td>8.687922116917663</td>\n",
       "      <td>472914</td>\n",
       "    </tr>\n",
       "    <tr>\n",
       "      <th>8</th>\n",
       "      <td>AA</td>\n",
       "      <td>8.733506415381084</td>\n",
       "      <td>252674</td>\n",
       "    </tr>\n",
       "    <tr>\n",
       "      <th>9</th>\n",
       "      <td>EA</td>\n",
       "      <td>8.891433950423595</td>\n",
       "      <td>28683</td>\n",
       "    </tr>\n",
       "  </tbody>\n",
       "</table>\n",
       "</div>"
      ],
      "text/plain": [
       "  UniqueCarrier               Delay   Count\n",
       "0            TZ  3.0637920850561136    3386\n",
       "1        PA (1)   4.447164795047816   25201\n",
       "2        ML (1)   5.734775641025641    1248\n",
       "3            EV   7.208137715179968     639\n",
       "4            NW   7.245188786506978  143363\n",
       "5            DL   7.445339060304795  372972\n",
       "6            XE    8.10292249047014    2361\n",
       "7            US   8.687922116917663  472914\n",
       "8            AA   8.733506415381084  252674\n",
       "9            EA   8.891433950423595   28683"
      ]
     },
     "metadata": {},
     "output_type": "display_data"
    }
   ],
   "source": [
    "for airport in ['SRQ', 'CMH', 'JFK', 'SEA', 'BOS']:\n",
    "    display(Markdown('### ' + airport))\n",
    "    display(get21(airport))"
   ]
  },
  {
   "cell_type": "markdown",
   "metadata": {},
   "source": [
    "# 2.2\n",
    "\n",
    "> For each airport X, rank the top-10 airports in decreasing order of on-time departure performance from X.\n",
    "\n",
    "> Provide the results using the following airport codes.\n",
    "> \n",
    "> * SRQ\n",
    "> * CMH\n",
    "> * JFK\n",
    "> * SEA\n",
    "> * BOS"
   ]
  },
  {
   "cell_type": "code",
   "execution_count": 28,
   "metadata": {},
   "outputs": [
    {
     "data": {
      "application/vnd.jupyter.widget-view+json": {
       "model_id": "9aa335dfbecd4bef8c014381c51f6a98",
       "version_major": 2,
       "version_minor": 0
      },
      "text/plain": [
       "Text(value='', placeholder='Airport X')"
      ]
     },
     "metadata": {},
     "output_type": "display_data"
    },
    {
     "data": {
      "application/vnd.jupyter.widget-view+json": {
       "model_id": "ba1bd19b481f440483452086968a52f1",
       "version_major": 2,
       "version_minor": 0
      },
      "text/plain": [
       "Button(description='Submit', style=ButtonStyle())"
      ]
     },
     "metadata": {},
     "output_type": "display_data"
    }
   ],
   "source": [
    "def get22(airport): \n",
    "    table = dynamodb_resource.Table('ccc2-2-2')\n",
    "    response = table.get_item(Key={'key': airport})\n",
    "    return pd.DataFrame(response['Item']['value'])[['Dest', 'Delay', 'Count']]\n",
    "\n",
    "airport_text = widgets.Text(placeholder='Airport X')\n",
    "display(airport_text)\n",
    "button = widgets.Button(description=\"Submit\")\n",
    "display(button)\n",
    "\n",
    "def on_button_clicked(b):\n",
    "    clear_output()\n",
    "    display(airport_text)\n",
    "    display(button)\n",
    "    display(Markdown('### ' + airport_text.value))\n",
    "    display(get22(airport_text.value))\n",
    "\n",
    "button.on_click(on_button_clicked)"
   ]
  },
  {
   "cell_type": "code",
   "execution_count": 29,
   "metadata": {
    "scrolled": false
   },
   "outputs": [
    {
     "data": {
      "text/markdown": [
       "### SRQ"
      ],
      "text/plain": [
       "<IPython.core.display.Markdown object>"
      ]
     },
     "metadata": {},
     "output_type": "display_data"
    },
    {
     "data": {
      "text/html": [
       "<div>\n",
       "<style scoped>\n",
       "    .dataframe tbody tr th:only-of-type {\n",
       "        vertical-align: middle;\n",
       "    }\n",
       "\n",
       "    .dataframe tbody tr th {\n",
       "        vertical-align: top;\n",
       "    }\n",
       "\n",
       "    .dataframe thead th {\n",
       "        text-align: right;\n",
       "    }\n",
       "</style>\n",
       "<table border=\"1\" class=\"dataframe\">\n",
       "  <thead>\n",
       "    <tr style=\"text-align: right;\">\n",
       "      <th></th>\n",
       "      <th>Dest</th>\n",
       "      <th>Delay</th>\n",
       "      <th>Count</th>\n",
       "    </tr>\n",
       "  </thead>\n",
       "  <tbody>\n",
       "    <tr>\n",
       "      <th>0</th>\n",
       "      <td>EYW</td>\n",
       "      <td>0</td>\n",
       "      <td>1</td>\n",
       "    </tr>\n",
       "    <tr>\n",
       "      <th>1</th>\n",
       "      <td>TPA</td>\n",
       "      <td>1.3288513253937764</td>\n",
       "      <td>2603</td>\n",
       "    </tr>\n",
       "    <tr>\n",
       "      <th>2</th>\n",
       "      <td>IAH</td>\n",
       "      <td>1.4445574771108851</td>\n",
       "      <td>2949</td>\n",
       "    </tr>\n",
       "    <tr>\n",
       "      <th>3</th>\n",
       "      <td>MEM</td>\n",
       "      <td>1.7029598308668077</td>\n",
       "      <td>946</td>\n",
       "    </tr>\n",
       "    <tr>\n",
       "      <th>4</th>\n",
       "      <td>FLL</td>\n",
       "      <td>2</td>\n",
       "      <td>1</td>\n",
       "    </tr>\n",
       "    <tr>\n",
       "      <th>5</th>\n",
       "      <td>BNA</td>\n",
       "      <td>2.0623145400593472</td>\n",
       "      <td>337</td>\n",
       "    </tr>\n",
       "    <tr>\n",
       "      <th>6</th>\n",
       "      <td>MCO</td>\n",
       "      <td>2.364537698870187</td>\n",
       "      <td>8674</td>\n",
       "    </tr>\n",
       "    <tr>\n",
       "      <th>7</th>\n",
       "      <td>RDU</td>\n",
       "      <td>2.535400709882309</td>\n",
       "      <td>5353</td>\n",
       "    </tr>\n",
       "    <tr>\n",
       "      <th>8</th>\n",
       "      <td>MDW</td>\n",
       "      <td>2.838123554674595</td>\n",
       "      <td>3027</td>\n",
       "    </tr>\n",
       "    <tr>\n",
       "      <th>9</th>\n",
       "      <td>CLT</td>\n",
       "      <td>3.358363542206111</td>\n",
       "      <td>15448</td>\n",
       "    </tr>\n",
       "  </tbody>\n",
       "</table>\n",
       "</div>"
      ],
      "text/plain": [
       "  Dest               Delay  Count\n",
       "0  EYW                   0      1\n",
       "1  TPA  1.3288513253937764   2603\n",
       "2  IAH  1.4445574771108851   2949\n",
       "3  MEM  1.7029598308668077    946\n",
       "4  FLL                   2      1\n",
       "5  BNA  2.0623145400593472    337\n",
       "6  MCO   2.364537698870187   8674\n",
       "7  RDU   2.535400709882309   5353\n",
       "8  MDW   2.838123554674595   3027\n",
       "9  CLT   3.358363542206111  15448"
      ]
     },
     "metadata": {},
     "output_type": "display_data"
    },
    {
     "data": {
      "text/markdown": [
       "### CMH"
      ],
      "text/plain": [
       "<IPython.core.display.Markdown object>"
      ]
     },
     "metadata": {},
     "output_type": "display_data"
    },
    {
     "data": {
      "text/html": [
       "<div>\n",
       "<style scoped>\n",
       "    .dataframe tbody tr th:only-of-type {\n",
       "        vertical-align: middle;\n",
       "    }\n",
       "\n",
       "    .dataframe tbody tr th {\n",
       "        vertical-align: top;\n",
       "    }\n",
       "\n",
       "    .dataframe thead th {\n",
       "        text-align: right;\n",
       "    }\n",
       "</style>\n",
       "<table border=\"1\" class=\"dataframe\">\n",
       "  <thead>\n",
       "    <tr style=\"text-align: right;\">\n",
       "      <th></th>\n",
       "      <th>Dest</th>\n",
       "      <th>Delay</th>\n",
       "      <th>Count</th>\n",
       "    </tr>\n",
       "  </thead>\n",
       "  <tbody>\n",
       "    <tr>\n",
       "      <th>0</th>\n",
       "      <td>AUS</td>\n",
       "      <td>-5</td>\n",
       "      <td>3</td>\n",
       "    </tr>\n",
       "    <tr>\n",
       "      <th>1</th>\n",
       "      <td>OMA</td>\n",
       "      <td>-5</td>\n",
       "      <td>1</td>\n",
       "    </tr>\n",
       "    <tr>\n",
       "      <th>2</th>\n",
       "      <td>SYR</td>\n",
       "      <td>-5</td>\n",
       "      <td>1</td>\n",
       "    </tr>\n",
       "    <tr>\n",
       "      <th>3</th>\n",
       "      <td>MSN</td>\n",
       "      <td>1</td>\n",
       "      <td>2</td>\n",
       "    </tr>\n",
       "    <tr>\n",
       "      <th>4</th>\n",
       "      <td>CLE</td>\n",
       "      <td>1.10498687664042</td>\n",
       "      <td>7239</td>\n",
       "    </tr>\n",
       "    <tr>\n",
       "      <th>5</th>\n",
       "      <td>SDF</td>\n",
       "      <td>1.3529411764705883</td>\n",
       "      <td>119</td>\n",
       "    </tr>\n",
       "    <tr>\n",
       "      <th>6</th>\n",
       "      <td>CAK</td>\n",
       "      <td>3.700394218134034</td>\n",
       "      <td>761</td>\n",
       "    </tr>\n",
       "    <tr>\n",
       "      <th>7</th>\n",
       "      <td>SLC</td>\n",
       "      <td>3.9392857142857145</td>\n",
       "      <td>560</td>\n",
       "    </tr>\n",
       "    <tr>\n",
       "      <th>8</th>\n",
       "      <td>MEM</td>\n",
       "      <td>4.152021563342318</td>\n",
       "      <td>5565</td>\n",
       "    </tr>\n",
       "    <tr>\n",
       "      <th>9</th>\n",
       "      <td>IAD</td>\n",
       "      <td>4.158103448275862</td>\n",
       "      <td>5800</td>\n",
       "    </tr>\n",
       "  </tbody>\n",
       "</table>\n",
       "</div>"
      ],
      "text/plain": [
       "  Dest               Delay Count\n",
       "0  AUS                  -5     3\n",
       "1  OMA                  -5     1\n",
       "2  SYR                  -5     1\n",
       "3  MSN                   1     2\n",
       "4  CLE    1.10498687664042  7239\n",
       "5  SDF  1.3529411764705883   119\n",
       "6  CAK   3.700394218134034   761\n",
       "7  SLC  3.9392857142857145   560\n",
       "8  MEM   4.152021563342318  5565\n",
       "9  IAD   4.158103448275862  5800"
      ]
     },
     "metadata": {},
     "output_type": "display_data"
    },
    {
     "data": {
      "text/markdown": [
       "### JFK"
      ],
      "text/plain": [
       "<IPython.core.display.Markdown object>"
      ]
     },
     "metadata": {},
     "output_type": "display_data"
    },
    {
     "data": {
      "text/html": [
       "<div>\n",
       "<style scoped>\n",
       "    .dataframe tbody tr th:only-of-type {\n",
       "        vertical-align: middle;\n",
       "    }\n",
       "\n",
       "    .dataframe tbody tr th {\n",
       "        vertical-align: top;\n",
       "    }\n",
       "\n",
       "    .dataframe thead th {\n",
       "        text-align: right;\n",
       "    }\n",
       "</style>\n",
       "<table border=\"1\" class=\"dataframe\">\n",
       "  <thead>\n",
       "    <tr style=\"text-align: right;\">\n",
       "      <th></th>\n",
       "      <th>Dest</th>\n",
       "      <th>Delay</th>\n",
       "      <th>Count</th>\n",
       "    </tr>\n",
       "  </thead>\n",
       "  <tbody>\n",
       "    <tr>\n",
       "      <th>0</th>\n",
       "      <td>SWF</td>\n",
       "      <td>-10.5</td>\n",
       "      <td>2</td>\n",
       "    </tr>\n",
       "    <tr>\n",
       "      <th>1</th>\n",
       "      <td>ANC</td>\n",
       "      <td>0</td>\n",
       "      <td>27</td>\n",
       "    </tr>\n",
       "    <tr>\n",
       "      <th>2</th>\n",
       "      <td>MYR</td>\n",
       "      <td>0</td>\n",
       "      <td>1</td>\n",
       "    </tr>\n",
       "    <tr>\n",
       "      <th>3</th>\n",
       "      <td>ISP</td>\n",
       "      <td>0</td>\n",
       "      <td>1</td>\n",
       "    </tr>\n",
       "    <tr>\n",
       "      <th>4</th>\n",
       "      <td>ABQ</td>\n",
       "      <td>0</td>\n",
       "      <td>1</td>\n",
       "    </tr>\n",
       "    <tr>\n",
       "      <th>5</th>\n",
       "      <td>UCA</td>\n",
       "      <td>1.9170124481327802</td>\n",
       "      <td>241</td>\n",
       "    </tr>\n",
       "    <tr>\n",
       "      <th>6</th>\n",
       "      <td>BGR</td>\n",
       "      <td>3.210280373831776</td>\n",
       "      <td>214</td>\n",
       "    </tr>\n",
       "    <tr>\n",
       "      <th>7</th>\n",
       "      <td>BQN</td>\n",
       "      <td>3.606227610912097</td>\n",
       "      <td>3629</td>\n",
       "    </tr>\n",
       "    <tr>\n",
       "      <th>8</th>\n",
       "      <td>CHS</td>\n",
       "      <td>4.4027105517909</td>\n",
       "      <td>1033</td>\n",
       "    </tr>\n",
       "    <tr>\n",
       "      <th>9</th>\n",
       "      <td>STT</td>\n",
       "      <td>4.492768477394375</td>\n",
       "      <td>8781</td>\n",
       "    </tr>\n",
       "  </tbody>\n",
       "</table>\n",
       "</div>"
      ],
      "text/plain": [
       "  Dest               Delay Count\n",
       "0  SWF               -10.5     2\n",
       "1  ANC                   0    27\n",
       "2  MYR                   0     1\n",
       "3  ISP                   0     1\n",
       "4  ABQ                   0     1\n",
       "5  UCA  1.9170124481327802   241\n",
       "6  BGR   3.210280373831776   214\n",
       "7  BQN   3.606227610912097  3629\n",
       "8  CHS     4.4027105517909  1033\n",
       "9  STT   4.492768477394375  8781"
      ]
     },
     "metadata": {},
     "output_type": "display_data"
    },
    {
     "data": {
      "text/markdown": [
       "### SEA"
      ],
      "text/plain": [
       "<IPython.core.display.Markdown object>"
      ]
     },
     "metadata": {},
     "output_type": "display_data"
    },
    {
     "data": {
      "text/html": [
       "<div>\n",
       "<style scoped>\n",
       "    .dataframe tbody tr th:only-of-type {\n",
       "        vertical-align: middle;\n",
       "    }\n",
       "\n",
       "    .dataframe tbody tr th {\n",
       "        vertical-align: top;\n",
       "    }\n",
       "\n",
       "    .dataframe thead th {\n",
       "        text-align: right;\n",
       "    }\n",
       "</style>\n",
       "<table border=\"1\" class=\"dataframe\">\n",
       "  <thead>\n",
       "    <tr style=\"text-align: right;\">\n",
       "      <th></th>\n",
       "      <th>Dest</th>\n",
       "      <th>Delay</th>\n",
       "      <th>Count</th>\n",
       "    </tr>\n",
       "  </thead>\n",
       "  <tbody>\n",
       "    <tr>\n",
       "      <th>0</th>\n",
       "      <td>EUG</td>\n",
       "      <td>0</td>\n",
       "      <td>1</td>\n",
       "    </tr>\n",
       "    <tr>\n",
       "      <th>1</th>\n",
       "      <td>PIH</td>\n",
       "      <td>1</td>\n",
       "      <td>1</td>\n",
       "    </tr>\n",
       "    <tr>\n",
       "      <th>2</th>\n",
       "      <td>PSC</td>\n",
       "      <td>2.6505190311418687</td>\n",
       "      <td>2023</td>\n",
       "    </tr>\n",
       "    <tr>\n",
       "      <th>3</th>\n",
       "      <td>CVG</td>\n",
       "      <td>3.878744557801027</td>\n",
       "      <td>15389</td>\n",
       "    </tr>\n",
       "    <tr>\n",
       "      <th>4</th>\n",
       "      <td>MEM</td>\n",
       "      <td>4.26022369800769</td>\n",
       "      <td>11444</td>\n",
       "    </tr>\n",
       "    <tr>\n",
       "      <th>5</th>\n",
       "      <td>CLE</td>\n",
       "      <td>5.1701694915254235</td>\n",
       "      <td>2950</td>\n",
       "    </tr>\n",
       "    <tr>\n",
       "      <th>6</th>\n",
       "      <td>BLI</td>\n",
       "      <td>5.198249133685938</td>\n",
       "      <td>5483</td>\n",
       "    </tr>\n",
       "    <tr>\n",
       "      <th>7</th>\n",
       "      <td>YKM</td>\n",
       "      <td>5.379647749510763</td>\n",
       "      <td>511</td>\n",
       "    </tr>\n",
       "    <tr>\n",
       "      <th>8</th>\n",
       "      <td>SNA</td>\n",
       "      <td>5.406250794054123</td>\n",
       "      <td>39355</td>\n",
       "    </tr>\n",
       "    <tr>\n",
       "      <th>9</th>\n",
       "      <td>LIH</td>\n",
       "      <td>5.481081081081081</td>\n",
       "      <td>370</td>\n",
       "    </tr>\n",
       "  </tbody>\n",
       "</table>\n",
       "</div>"
      ],
      "text/plain": [
       "  Dest               Delay  Count\n",
       "0  EUG                   0      1\n",
       "1  PIH                   1      1\n",
       "2  PSC  2.6505190311418687   2023\n",
       "3  CVG   3.878744557801027  15389\n",
       "4  MEM    4.26022369800769  11444\n",
       "5  CLE  5.1701694915254235   2950\n",
       "6  BLI   5.198249133685938   5483\n",
       "7  YKM   5.379647749510763    511\n",
       "8  SNA   5.406250794054123  39355\n",
       "9  LIH   5.481081081081081    370"
      ]
     },
     "metadata": {},
     "output_type": "display_data"
    },
    {
     "data": {
      "text/markdown": [
       "### BOS"
      ],
      "text/plain": [
       "<IPython.core.display.Markdown object>"
      ]
     },
     "metadata": {},
     "output_type": "display_data"
    },
    {
     "data": {
      "text/html": [
       "<div>\n",
       "<style scoped>\n",
       "    .dataframe tbody tr th:only-of-type {\n",
       "        vertical-align: middle;\n",
       "    }\n",
       "\n",
       "    .dataframe tbody tr th {\n",
       "        vertical-align: top;\n",
       "    }\n",
       "\n",
       "    .dataframe thead th {\n",
       "        text-align: right;\n",
       "    }\n",
       "</style>\n",
       "<table border=\"1\" class=\"dataframe\">\n",
       "  <thead>\n",
       "    <tr style=\"text-align: right;\">\n",
       "      <th></th>\n",
       "      <th>Dest</th>\n",
       "      <th>Delay</th>\n",
       "      <th>Count</th>\n",
       "    </tr>\n",
       "  </thead>\n",
       "  <tbody>\n",
       "    <tr>\n",
       "      <th>0</th>\n",
       "      <td>SWF</td>\n",
       "      <td>-5</td>\n",
       "      <td>1</td>\n",
       "    </tr>\n",
       "    <tr>\n",
       "      <th>1</th>\n",
       "      <td>ONT</td>\n",
       "      <td>-3</td>\n",
       "      <td>2</td>\n",
       "    </tr>\n",
       "    <tr>\n",
       "      <th>2</th>\n",
       "      <td>GGG</td>\n",
       "      <td>1</td>\n",
       "      <td>2</td>\n",
       "    </tr>\n",
       "    <tr>\n",
       "      <th>3</th>\n",
       "      <td>AUS</td>\n",
       "      <td>1.2087076710435383</td>\n",
       "      <td>1447</td>\n",
       "    </tr>\n",
       "    <tr>\n",
       "      <th>4</th>\n",
       "      <td>LGA</td>\n",
       "      <td>3.054017857142857</td>\n",
       "      <td>165760</td>\n",
       "    </tr>\n",
       "    <tr>\n",
       "      <th>5</th>\n",
       "      <td>MSY</td>\n",
       "      <td>3.2464678178963893</td>\n",
       "      <td>637</td>\n",
       "    </tr>\n",
       "    <tr>\n",
       "      <th>6</th>\n",
       "      <td>LGB</td>\n",
       "      <td>5.136176772867421</td>\n",
       "      <td>3892</td>\n",
       "    </tr>\n",
       "    <tr>\n",
       "      <th>7</th>\n",
       "      <td>OAK</td>\n",
       "      <td>5.783210035381152</td>\n",
       "      <td>3109</td>\n",
       "    </tr>\n",
       "    <tr>\n",
       "      <th>8</th>\n",
       "      <td>MDW</td>\n",
       "      <td>5.895637536821433</td>\n",
       "      <td>7129</td>\n",
       "    </tr>\n",
       "    <tr>\n",
       "      <th>9</th>\n",
       "      <td>BDL</td>\n",
       "      <td>5.982704848313014</td>\n",
       "      <td>3527</td>\n",
       "    </tr>\n",
       "  </tbody>\n",
       "</table>\n",
       "</div>"
      ],
      "text/plain": [
       "  Dest               Delay   Count\n",
       "0  SWF                  -5       1\n",
       "1  ONT                  -3       2\n",
       "2  GGG                   1       2\n",
       "3  AUS  1.2087076710435383    1447\n",
       "4  LGA   3.054017857142857  165760\n",
       "5  MSY  3.2464678178963893     637\n",
       "6  LGB   5.136176772867421    3892\n",
       "7  OAK   5.783210035381152    3109\n",
       "8  MDW   5.895637536821433    7129\n",
       "9  BDL   5.982704848313014    3527"
      ]
     },
     "metadata": {},
     "output_type": "display_data"
    }
   ],
   "source": [
    "for airport in ['SRQ', 'CMH', 'JFK', 'SEA', 'BOS']:\n",
    "    display(Markdown('### ' + airport))\n",
    "    display(get22(airport))"
   ]
  },
  {
   "cell_type": "markdown",
   "metadata": {},
   "source": [
    "# 2.3\n",
    "\n",
    "> For each source-destination pair X-Y, rank the top-10 carriers in decreasing order of on-time arrival performance at Y from X.\n",
    "\n",
    "> Provide the results using the following routes.\n",
    "> \n",
    "> * LGA → BOS\n",
    "> * BOS → LGA\n",
    "> * OKC → DFW\n",
    "> * MSP → ATL"
   ]
  },
  {
   "cell_type": "code",
   "execution_count": 30,
   "metadata": {},
   "outputs": [
    {
     "data": {
      "application/vnd.jupyter.widget-view+json": {
       "model_id": "2f6c5d25d9594a2f9164c7beb26e0945",
       "version_major": 2,
       "version_minor": 0
      },
      "text/plain": [
       "Text(value='', placeholder='Airport X')"
      ]
     },
     "metadata": {},
     "output_type": "display_data"
    },
    {
     "data": {
      "application/vnd.jupyter.widget-view+json": {
       "model_id": "d3a4d81102a84ca6b3530551309ded93",
       "version_major": 2,
       "version_minor": 0
      },
      "text/plain": [
       "Text(value='', placeholder='Airport Y')"
      ]
     },
     "metadata": {},
     "output_type": "display_data"
    },
    {
     "data": {
      "application/vnd.jupyter.widget-view+json": {
       "model_id": "c679251a45394a24a94c84daff82c1dd",
       "version_major": 2,
       "version_minor": 0
      },
      "text/plain": [
       "Button(description='Submit', style=ButtonStyle())"
      ]
     },
     "metadata": {},
     "output_type": "display_data"
    }
   ],
   "source": [
    "def get23(x, y): \n",
    "    table = dynamodb_resource.Table('ccc2-2-3')\n",
    "    response = table.get_item(Key={'key': x + '-' + y})\n",
    "    return pd.DataFrame(response['Item']['value'])[['UniqueCarrier', 'Delay', 'Count']]\n",
    "\n",
    "x_text = widgets.Text(placeholder='Airport X')\n",
    "display(x_text)\n",
    "y_text = widgets.Text(placeholder='Airport Y')\n",
    "display(y_text)\n",
    "button = widgets.Button(description=\"Submit\")\n",
    "display(button)\n",
    "\n",
    "def on_button_clicked(b):\n",
    "    clear_output()\n",
    "    display(x_text)\n",
    "    display(y_text)\n",
    "    display(button)\n",
    "    display(Markdown('### ' + x_text.value + ' -> ' + y_text.value))\n",
    "    display(get23(x_text.value, y_text.value))\n",
    "\n",
    "button.on_click(on_button_clicked)"
   ]
  },
  {
   "cell_type": "code",
   "execution_count": 31,
   "metadata": {},
   "outputs": [
    {
     "data": {
      "text/markdown": [
       "### LGA -> BOS"
      ],
      "text/plain": [
       "<IPython.core.display.Markdown object>"
      ]
     },
     "metadata": {},
     "output_type": "display_data"
    },
    {
     "data": {
      "text/html": [
       "<div>\n",
       "<style scoped>\n",
       "    .dataframe tbody tr th:only-of-type {\n",
       "        vertical-align: middle;\n",
       "    }\n",
       "\n",
       "    .dataframe tbody tr th {\n",
       "        vertical-align: top;\n",
       "    }\n",
       "\n",
       "    .dataframe thead th {\n",
       "        text-align: right;\n",
       "    }\n",
       "</style>\n",
       "<table border=\"1\" class=\"dataframe\">\n",
       "  <thead>\n",
       "    <tr style=\"text-align: right;\">\n",
       "      <th></th>\n",
       "      <th>UniqueCarrier</th>\n",
       "      <th>Delay</th>\n",
       "      <th>Count</th>\n",
       "    </tr>\n",
       "  </thead>\n",
       "  <tbody>\n",
       "    <tr>\n",
       "      <th>0</th>\n",
       "      <td>TW</td>\n",
       "      <td>-3</td>\n",
       "      <td>1</td>\n",
       "    </tr>\n",
       "    <tr>\n",
       "      <th>1</th>\n",
       "      <td>US</td>\n",
       "      <td>-2.9042429927168394</td>\n",
       "      <td>36248</td>\n",
       "    </tr>\n",
       "    <tr>\n",
       "      <th>2</th>\n",
       "      <td>PA (1)</td>\n",
       "      <td>-0.4187248422203449</td>\n",
       "      <td>20123</td>\n",
       "    </tr>\n",
       "    <tr>\n",
       "      <th>3</th>\n",
       "      <td>DL</td>\n",
       "      <td>1.747324224799532</td>\n",
       "      <td>87171</td>\n",
       "    </tr>\n",
       "    <tr>\n",
       "      <th>4</th>\n",
       "      <td>EA</td>\n",
       "      <td>4.8213728549141965</td>\n",
       "      <td>7692</td>\n",
       "    </tr>\n",
       "    <tr>\n",
       "      <th>5</th>\n",
       "      <td>MQ</td>\n",
       "      <td>9.866226864577607</td>\n",
       "      <td>16371</td>\n",
       "    </tr>\n",
       "    <tr>\n",
       "      <th>6</th>\n",
       "      <td>NW</td>\n",
       "      <td>14.444444444444445</td>\n",
       "      <td>747</td>\n",
       "    </tr>\n",
       "    <tr>\n",
       "      <th>7</th>\n",
       "      <td>OH</td>\n",
       "      <td>27.984848484848484</td>\n",
       "      <td>66</td>\n",
       "    </tr>\n",
       "    <tr>\n",
       "      <th>8</th>\n",
       "      <td>AA</td>\n",
       "      <td>28.5</td>\n",
       "      <td>2</td>\n",
       "    </tr>\n",
       "  </tbody>\n",
       "</table>\n",
       "</div>"
      ],
      "text/plain": [
       "  UniqueCarrier                Delay  Count\n",
       "0            TW                   -3      1\n",
       "1            US  -2.9042429927168394  36248\n",
       "2        PA (1)  -0.4187248422203449  20123\n",
       "3            DL    1.747324224799532  87171\n",
       "4            EA   4.8213728549141965   7692\n",
       "5            MQ    9.866226864577607  16371\n",
       "6            NW   14.444444444444445    747\n",
       "7            OH   27.984848484848484     66\n",
       "8            AA                 28.5      2"
      ]
     },
     "metadata": {},
     "output_type": "display_data"
    },
    {
     "data": {
      "text/markdown": [
       "### BOS -> LGA"
      ],
      "text/plain": [
       "<IPython.core.display.Markdown object>"
      ]
     },
     "metadata": {},
     "output_type": "display_data"
    },
    {
     "data": {
      "text/html": [
       "<div>\n",
       "<style scoped>\n",
       "    .dataframe tbody tr th:only-of-type {\n",
       "        vertical-align: middle;\n",
       "    }\n",
       "\n",
       "    .dataframe tbody tr th {\n",
       "        vertical-align: top;\n",
       "    }\n",
       "\n",
       "    .dataframe thead th {\n",
       "        text-align: right;\n",
       "    }\n",
       "</style>\n",
       "<table border=\"1\" class=\"dataframe\">\n",
       "  <thead>\n",
       "    <tr style=\"text-align: right;\">\n",
       "      <th></th>\n",
       "      <th>UniqueCarrier</th>\n",
       "      <th>Delay</th>\n",
       "      <th>Count</th>\n",
       "    </tr>\n",
       "  </thead>\n",
       "  <tbody>\n",
       "    <tr>\n",
       "      <th>0</th>\n",
       "      <td>TW</td>\n",
       "      <td>-11</td>\n",
       "      <td>1</td>\n",
       "    </tr>\n",
       "    <tr>\n",
       "      <th>1</th>\n",
       "      <td>US</td>\n",
       "      <td>1.0952367939223349</td>\n",
       "      <td>36593</td>\n",
       "    </tr>\n",
       "    <tr>\n",
       "      <th>2</th>\n",
       "      <td>DL</td>\n",
       "      <td>2.0246025602857993</td>\n",
       "      <td>83975</td>\n",
       "    </tr>\n",
       "    <tr>\n",
       "      <th>3</th>\n",
       "      <td>PA (1)</td>\n",
       "      <td>6.071749550629119</td>\n",
       "      <td>20028</td>\n",
       "    </tr>\n",
       "    <tr>\n",
       "      <th>4</th>\n",
       "      <td>EA</td>\n",
       "      <td>9.480668069437138</td>\n",
       "      <td>7604</td>\n",
       "    </tr>\n",
       "    <tr>\n",
       "      <th>5</th>\n",
       "      <td>MQ</td>\n",
       "      <td>12.643273798785255</td>\n",
       "      <td>16629</td>\n",
       "    </tr>\n",
       "    <tr>\n",
       "      <th>6</th>\n",
       "      <td>NW</td>\n",
       "      <td>15.22985468956407</td>\n",
       "      <td>757</td>\n",
       "    </tr>\n",
       "    <tr>\n",
       "      <th>7</th>\n",
       "      <td>AA</td>\n",
       "      <td>28</td>\n",
       "      <td>6</td>\n",
       "    </tr>\n",
       "    <tr>\n",
       "      <th>8</th>\n",
       "      <td>OH</td>\n",
       "      <td>30.448275862068964</td>\n",
       "      <td>29</td>\n",
       "    </tr>\n",
       "    <tr>\n",
       "      <th>9</th>\n",
       "      <td>TZ</td>\n",
       "      <td>133</td>\n",
       "      <td>1</td>\n",
       "    </tr>\n",
       "  </tbody>\n",
       "</table>\n",
       "</div>"
      ],
      "text/plain": [
       "  UniqueCarrier               Delay  Count\n",
       "0            TW                 -11      1\n",
       "1            US  1.0952367939223349  36593\n",
       "2            DL  2.0246025602857993  83975\n",
       "3        PA (1)   6.071749550629119  20028\n",
       "4            EA   9.480668069437138   7604\n",
       "5            MQ  12.643273798785255  16629\n",
       "6            NW   15.22985468956407    757\n",
       "7            AA                  28      6\n",
       "8            OH  30.448275862068964     29\n",
       "9            TZ                 133      1"
      ]
     },
     "metadata": {},
     "output_type": "display_data"
    },
    {
     "data": {
      "text/markdown": [
       "### OKC -> DFW"
      ],
      "text/plain": [
       "<IPython.core.display.Markdown object>"
      ]
     },
     "metadata": {},
     "output_type": "display_data"
    },
    {
     "data": {
      "text/html": [
       "<div>\n",
       "<style scoped>\n",
       "    .dataframe tbody tr th:only-of-type {\n",
       "        vertical-align: middle;\n",
       "    }\n",
       "\n",
       "    .dataframe tbody tr th {\n",
       "        vertical-align: top;\n",
       "    }\n",
       "\n",
       "    .dataframe thead th {\n",
       "        text-align: right;\n",
       "    }\n",
       "</style>\n",
       "<table border=\"1\" class=\"dataframe\">\n",
       "  <thead>\n",
       "    <tr style=\"text-align: right;\">\n",
       "      <th></th>\n",
       "      <th>UniqueCarrier</th>\n",
       "      <th>Delay</th>\n",
       "      <th>Count</th>\n",
       "    </tr>\n",
       "  </thead>\n",
       "  <tbody>\n",
       "    <tr>\n",
       "      <th>0</th>\n",
       "      <td>TW</td>\n",
       "      <td>0.10124333925399645</td>\n",
       "      <td>1126</td>\n",
       "    </tr>\n",
       "    <tr>\n",
       "      <th>1</th>\n",
       "      <td>EV</td>\n",
       "      <td>1.358974358974359</td>\n",
       "      <td>1911</td>\n",
       "    </tr>\n",
       "    <tr>\n",
       "      <th>2</th>\n",
       "      <td>AA</td>\n",
       "      <td>4.570106940850489</td>\n",
       "      <td>43669</td>\n",
       "    </tr>\n",
       "    <tr>\n",
       "      <th>3</th>\n",
       "      <td>MQ</td>\n",
       "      <td>4.675752473163545</td>\n",
       "      <td>9502</td>\n",
       "    </tr>\n",
       "    <tr>\n",
       "      <th>4</th>\n",
       "      <td>DL</td>\n",
       "      <td>6.7315385583092215</td>\n",
       "      <td>15898</td>\n",
       "    </tr>\n",
       "    <tr>\n",
       "      <th>5</th>\n",
       "      <td>OO</td>\n",
       "      <td>12.835087719298246</td>\n",
       "      <td>570</td>\n",
       "    </tr>\n",
       "    <tr>\n",
       "      <th>6</th>\n",
       "      <td>OH</td>\n",
       "      <td>47.5</td>\n",
       "      <td>2</td>\n",
       "    </tr>\n",
       "  </tbody>\n",
       "</table>\n",
       "</div>"
      ],
      "text/plain": [
       "  UniqueCarrier                Delay  Count\n",
       "0            TW  0.10124333925399645   1126\n",
       "1            EV    1.358974358974359   1911\n",
       "2            AA    4.570106940850489  43669\n",
       "3            MQ    4.675752473163545   9502\n",
       "4            DL   6.7315385583092215  15898\n",
       "5            OO   12.835087719298246    570\n",
       "6            OH                 47.5      2"
      ]
     },
     "metadata": {},
     "output_type": "display_data"
    },
    {
     "data": {
      "text/markdown": [
       "### MSP -> ATL"
      ],
      "text/plain": [
       "<IPython.core.display.Markdown object>"
      ]
     },
     "metadata": {},
     "output_type": "display_data"
    },
    {
     "data": {
      "text/html": [
       "<div>\n",
       "<style scoped>\n",
       "    .dataframe tbody tr th:only-of-type {\n",
       "        vertical-align: middle;\n",
       "    }\n",
       "\n",
       "    .dataframe tbody tr th {\n",
       "        vertical-align: top;\n",
       "    }\n",
       "\n",
       "    .dataframe thead th {\n",
       "        text-align: right;\n",
       "    }\n",
       "</style>\n",
       "<table border=\"1\" class=\"dataframe\">\n",
       "  <thead>\n",
       "    <tr style=\"text-align: right;\">\n",
       "      <th></th>\n",
       "      <th>UniqueCarrier</th>\n",
       "      <th>Delay</th>\n",
       "      <th>Count</th>\n",
       "    </tr>\n",
       "  </thead>\n",
       "  <tbody>\n",
       "    <tr>\n",
       "      <th>0</th>\n",
       "      <td>EA</td>\n",
       "      <td>4.2015625</td>\n",
       "      <td>640</td>\n",
       "    </tr>\n",
       "    <tr>\n",
       "      <th>1</th>\n",
       "      <td>OO</td>\n",
       "      <td>4.766</td>\n",
       "      <td>1000</td>\n",
       "    </tr>\n",
       "    <tr>\n",
       "      <th>2</th>\n",
       "      <td>FL</td>\n",
       "      <td>6.292677547419497</td>\n",
       "      <td>9068</td>\n",
       "    </tr>\n",
       "    <tr>\n",
       "      <th>3</th>\n",
       "      <td>DL</td>\n",
       "      <td>6.34326262780406</td>\n",
       "      <td>32765</td>\n",
       "    </tr>\n",
       "    <tr>\n",
       "      <th>4</th>\n",
       "      <td>NW</td>\n",
       "      <td>7.015818604943707</td>\n",
       "      <td>31798</td>\n",
       "    </tr>\n",
       "    <tr>\n",
       "      <th>5</th>\n",
       "      <td>OH</td>\n",
       "      <td>8.303473491773309</td>\n",
       "      <td>547</td>\n",
       "    </tr>\n",
       "    <tr>\n",
       "      <th>6</th>\n",
       "      <td>EV</td>\n",
       "      <td>10.12092731829574</td>\n",
       "      <td>3192</td>\n",
       "    </tr>\n",
       "  </tbody>\n",
       "</table>\n",
       "</div>"
      ],
      "text/plain": [
       "  UniqueCarrier              Delay  Count\n",
       "0            EA          4.2015625    640\n",
       "1            OO              4.766   1000\n",
       "2            FL  6.292677547419497   9068\n",
       "3            DL   6.34326262780406  32765\n",
       "4            NW  7.015818604943707  31798\n",
       "5            OH  8.303473491773309    547\n",
       "6            EV  10.12092731829574   3192"
      ]
     },
     "metadata": {},
     "output_type": "display_data"
    }
   ],
   "source": [
    "for airports in [['LGA', 'BOS'], ['BOS', 'LGA'], ['OKC', 'DFW'], ['MSP', 'ATL']]:\n",
    "    display(Markdown('### ' + airports[0] + ' -> ' + airports[1]))\n",
    "    display(get23(*airports))"
   ]
  },
  {
   "cell_type": "markdown",
   "metadata": {},
   "source": [
    "# 2.4\n",
    "\n",
    "> For each source-destination pair X-Y, determine the mean arrival delay (in minutes) for a flight from X to Y.\n",
    "\n",
    "> Provide the results using the following routes.\n",
    "> \n",
    "> * LGA → BOS\n",
    "> * BOS → LGA\n",
    "> * OKC → DFW\n",
    "> * MSP → ATL"
   ]
  },
  {
   "cell_type": "code",
   "execution_count": 32,
   "metadata": {},
   "outputs": [
    {
     "data": {
      "application/vnd.jupyter.widget-view+json": {
       "model_id": "1e4a445405da49e28051789640118e44",
       "version_major": 2,
       "version_minor": 0
      },
      "text/plain": [
       "Text(value='', placeholder='Airport X')"
      ]
     },
     "metadata": {},
     "output_type": "display_data"
    },
    {
     "data": {
      "application/vnd.jupyter.widget-view+json": {
       "model_id": "10b08e3132db4c70af3e784c552d517c",
       "version_major": 2,
       "version_minor": 0
      },
      "text/plain": [
       "Text(value='', placeholder='Airport Y')"
      ]
     },
     "metadata": {},
     "output_type": "display_data"
    },
    {
     "data": {
      "application/vnd.jupyter.widget-view+json": {
       "model_id": "adcc987eb2754d74a5e113adc56f9a60",
       "version_major": 2,
       "version_minor": 0
      },
      "text/plain": [
       "Button(description='Submit', style=ButtonStyle())"
      ]
     },
     "metadata": {},
     "output_type": "display_data"
    }
   ],
   "source": [
    "def get24(x, y): \n",
    "    table = dynamodb_resource.Table('ccc2-2-4')\n",
    "    response = table.get_item(Key={'key': x + '-' + y})\n",
    "    return pd.DataFrame(response['Item']['value'])[['Delay', 'Count']]\n",
    "\n",
    "x_text = widgets.Text(placeholder='Airport X')\n",
    "display(x_text)\n",
    "y_text = widgets.Text(placeholder='Airport Y')\n",
    "display(y_text)\n",
    "button = widgets.Button(description=\"Submit\")\n",
    "display(button)\n",
    "\n",
    "def on_button_clicked(b):\n",
    "    clear_output()\n",
    "    display(x_text)\n",
    "    display(y_text)\n",
    "    display(button)\n",
    "    display(Markdown('### ' + x_text.value + ' -> ' + y_text.value))\n",
    "    display(get24(x_text.value, y_text.value))\n",
    "\n",
    "button.on_click(on_button_clicked)"
   ]
  },
  {
   "cell_type": "code",
   "execution_count": 33,
   "metadata": {},
   "outputs": [
    {
     "data": {
      "text/html": [
       "<div>\n",
       "<style scoped>\n",
       "    .dataframe tbody tr th:only-of-type {\n",
       "        vertical-align: middle;\n",
       "    }\n",
       "\n",
       "    .dataframe tbody tr th {\n",
       "        vertical-align: top;\n",
       "    }\n",
       "\n",
       "    .dataframe thead th {\n",
       "        text-align: right;\n",
       "    }\n",
       "</style>\n",
       "<table border=\"1\" class=\"dataframe\">\n",
       "  <thead>\n",
       "    <tr style=\"text-align: right;\">\n",
       "      <th></th>\n",
       "      <th>X</th>\n",
       "      <th>Y</th>\n",
       "      <th>Delay</th>\n",
       "      <th>Count</th>\n",
       "    </tr>\n",
       "  </thead>\n",
       "  <tbody>\n",
       "    <tr>\n",
       "      <th>0</th>\n",
       "      <td>LGA</td>\n",
       "      <td>BOS</td>\n",
       "      <td>1.4838648387077622</td>\n",
       "      <td>168421</td>\n",
       "    </tr>\n",
       "    <tr>\n",
       "      <th>1</th>\n",
       "      <td>BOS</td>\n",
       "      <td>LGA</td>\n",
       "      <td>3.7841181478417854</td>\n",
       "      <td>165623</td>\n",
       "    </tr>\n",
       "    <tr>\n",
       "      <th>2</th>\n",
       "      <td>OKC</td>\n",
       "      <td>DFW</td>\n",
       "      <td>4.969055284955558</td>\n",
       "      <td>72678</td>\n",
       "    </tr>\n",
       "    <tr>\n",
       "      <th>3</th>\n",
       "      <td>MSP</td>\n",
       "      <td>ATL</td>\n",
       "      <td>6.737007973674219</td>\n",
       "      <td>79010</td>\n",
       "    </tr>\n",
       "  </tbody>\n",
       "</table>\n",
       "</div>"
      ],
      "text/plain": [
       "     X    Y               Delay   Count\n",
       "0  LGA  BOS  1.4838648387077622  168421\n",
       "1  BOS  LGA  3.7841181478417854  165623\n",
       "2  OKC  DFW   4.969055284955558   72678\n",
       "3  MSP  ATL   6.737007973674219   79010"
      ]
     },
     "metadata": {},
     "output_type": "display_data"
    }
   ],
   "source": [
    "df = pd.DataFrame(columns=['X', 'Y', 'Delay', 'Count'])\n",
    "for airports in [['LGA', 'BOS'], ['BOS', 'LGA'], ['OKC', 'DFW'], ['MSP', 'ATL']]:\n",
    "    result = get24(*airports)\n",
    "    df.loc[len(df)] = [airports[0], airports[1], result.loc[0]['Delay'], result.loc[0]['Count']]\n",
    "display(df)"
   ]
  },
  {
   "cell_type": "markdown",
   "metadata": {},
   "source": [
    "# 3.2\n",
    "\n",
    "> Tom wants to travel from airport X to airport Z. However, Tom also wants to stop at airport Y for some sightseeing on the way. More concretely, Tom has the following requirements (for specific queries, see the Task 1 Queries and Task 2 Queries)\n",
    "> \n",
    "> a) The second leg of the journey (flight Y-Z) must depart two days after the first leg (flight X-Y). For example, if X-Y departs on January 5, 2008, Y-Z must depart on January 7, 2008.\n",
    "> \n",
    "> b) Tom wants his flights scheduled to depart airport X before 12:00 PM local time and to depart airport Y after 12:00 PM local time.\n",
    "> \n",
    "> c) Tom wants to arrive at each destination with as little delay as possible. You can assume you know the actual delay of each flight.\n",
    "> \n",
    "> Your mission (should you choose to accept it!) is to find, for each X-Y-Z and day/month (dd/mm) combination in the year 2008, the two flights (X-Y and Y-Z) that satisfy constraints (a) and (b) and have the best individual performance with respect to constraint (c), if such flights exist.\n",
    "\n",
    "> Provide the results using the following routes and start dates. Dates are in dd/mm/yyyy format.\n",
    "> \n",
    "> * BOS → ATL → LAX, 03/04/2008\n",
    "> * PHX → JFK → MSP, 07/09/2008\n",
    "> * DFW → STL → ORD, 24/01/2008\n",
    "> * LAX → MIA → LAX, 16/05/2008"
   ]
  },
  {
   "cell_type": "code",
   "execution_count": 34,
   "metadata": {},
   "outputs": [
    {
     "data": {
      "application/vnd.jupyter.widget-view+json": {
       "model_id": "92abd06c447a4e5985ee066ed9164560",
       "version_major": 2,
       "version_minor": 0
      },
      "text/plain": [
       "Text(value='', placeholder='Airport X')"
      ]
     },
     "metadata": {},
     "output_type": "display_data"
    },
    {
     "data": {
      "application/vnd.jupyter.widget-view+json": {
       "model_id": "3b36bd45f4d84996a3846b430dc9dc66",
       "version_major": 2,
       "version_minor": 0
      },
      "text/plain": [
       "Text(value='', placeholder='Airport Y')"
      ]
     },
     "metadata": {},
     "output_type": "display_data"
    },
    {
     "data": {
      "application/vnd.jupyter.widget-view+json": {
       "model_id": "4bf690577c73456a81e0f74ffe43ed09",
       "version_major": 2,
       "version_minor": 0
      },
      "text/plain": [
       "Text(value='', placeholder='Airport Z')"
      ]
     },
     "metadata": {},
     "output_type": "display_data"
    },
    {
     "data": {
      "application/vnd.jupyter.widget-view+json": {
       "model_id": "a286c7114b5945b2ab55070900956d3c",
       "version_major": 2,
       "version_minor": 0
      },
      "text/plain": [
       "DatePicker(value=datetime.date(2008, 1, 1), description='Date')"
      ]
     },
     "metadata": {},
     "output_type": "display_data"
    },
    {
     "data": {
      "application/vnd.jupyter.widget-view+json": {
       "model_id": "b7d8bd410130445a8f78281fa8073204",
       "version_major": 2,
       "version_minor": 0
      },
      "text/plain": [
       "Button(description='Submit', style=ButtonStyle())"
      ]
     },
     "metadata": {},
     "output_type": "display_data"
    }
   ],
   "source": [
    "def get32(x, y, z, date): \n",
    "    table = dynamodb_resource.Table('ccc2-3-2')\n",
    "    response = table.get_item(Key={'key': x + '-' + y + '-' + z + '-' + str(date)})\n",
    "    return pd.DataFrame(list(response['Item']['value'].values()), index=list(response['Item']['value'].keys())).transpose() \\\n",
    "            [[\"TotalArrDelay\", \"X\", \"FlightDate1\", \"UniqueCarrier1\", \"FlightNum1\", \"CRSDepTimeHour1\", \"CRSDepTimeMinute1\", \"ArrDelay1\", \"Y\", \"FlightDate2\", \"UniqueCarrier2\", \"FlightNum2\", \"CRSDepTimeHour2\", \"CRSDepTimeMinute2\", \"ArrDelay2\", \"Z\"]]\n",
    "\n",
    "x_text = widgets.Text(placeholder='Airport X')\n",
    "display(x_text)\n",
    "y_text = widgets.Text(placeholder='Airport Y')\n",
    "display(y_text)\n",
    "z_text = widgets.Text(placeholder='Airport Z')\n",
    "display(z_text)\n",
    "date_picker = widgets.DatePicker(\n",
    "    description='Date',\n",
    "    disabled=False,\n",
    "    value=datetime.datetime.strptime('2008-01-01', \"%Y-%m-%d\").date()\n",
    ")\n",
    "display(date_picker)\n",
    "button = widgets.Button(description=\"Submit\")\n",
    "display(button)\n",
    "\n",
    "def on_button_clicked(b):\n",
    "    clear_output()\n",
    "    display(x_text)\n",
    "    display(y_text)\n",
    "    display(z_text)\n",
    "    display(date_picker)\n",
    "    display(button)\n",
    "    display(Markdown('### ' + x_text.value + ' -> ' + y_text.value + ' -> ' + z_text.value + ', ' + str(date_picker.value)))\n",
    "    display(get32(x_text.value, y_text.value, z_text.value, date_picker.value))\n",
    "\n",
    "button.on_click(on_button_clicked)"
   ]
  },
  {
   "cell_type": "code",
   "execution_count": 35,
   "metadata": {},
   "outputs": [
    {
     "data": {
      "text/markdown": [
       "### BOS -> ATL -> LAX, 2008-04-03"
      ],
      "text/plain": [
       "<IPython.core.display.Markdown object>"
      ]
     },
     "metadata": {},
     "output_type": "display_data"
    },
    {
     "data": {
      "text/html": [
       "<div>\n",
       "<style scoped>\n",
       "    .dataframe tbody tr th:only-of-type {\n",
       "        vertical-align: middle;\n",
       "    }\n",
       "\n",
       "    .dataframe tbody tr th {\n",
       "        vertical-align: top;\n",
       "    }\n",
       "\n",
       "    .dataframe thead th {\n",
       "        text-align: right;\n",
       "    }\n",
       "</style>\n",
       "<table border=\"1\" class=\"dataframe\">\n",
       "  <thead>\n",
       "    <tr style=\"text-align: right;\">\n",
       "      <th></th>\n",
       "      <th>TotalArrDelay</th>\n",
       "      <th>X</th>\n",
       "      <th>FlightDate1</th>\n",
       "      <th>UniqueCarrier1</th>\n",
       "      <th>FlightNum1</th>\n",
       "      <th>CRSDepTimeHour1</th>\n",
       "      <th>CRSDepTimeMinute1</th>\n",
       "      <th>ArrDelay1</th>\n",
       "      <th>Y</th>\n",
       "      <th>FlightDate2</th>\n",
       "      <th>UniqueCarrier2</th>\n",
       "      <th>FlightNum2</th>\n",
       "      <th>CRSDepTimeHour2</th>\n",
       "      <th>CRSDepTimeMinute2</th>\n",
       "      <th>ArrDelay2</th>\n",
       "      <th>Z</th>\n",
       "    </tr>\n",
       "  </thead>\n",
       "  <tbody>\n",
       "    <tr>\n",
       "      <th>0</th>\n",
       "      <td>5</td>\n",
       "      <td>BOS</td>\n",
       "      <td>2008-04-03</td>\n",
       "      <td>FL</td>\n",
       "      <td>270</td>\n",
       "      <td>6</td>\n",
       "      <td>0</td>\n",
       "      <td>7</td>\n",
       "      <td>ATL</td>\n",
       "      <td>2008-04-05</td>\n",
       "      <td>FL</td>\n",
       "      <td>40</td>\n",
       "      <td>18</td>\n",
       "      <td>52</td>\n",
       "      <td>-2</td>\n",
       "      <td>LAX</td>\n",
       "    </tr>\n",
       "  </tbody>\n",
       "</table>\n",
       "</div>"
      ],
      "text/plain": [
       "  TotalArrDelay    X FlightDate1 UniqueCarrier1 FlightNum1 CRSDepTimeHour1  \\\n",
       "0             5  BOS  2008-04-03             FL        270               6   \n",
       "\n",
       "  CRSDepTimeMinute1 ArrDelay1    Y FlightDate2 UniqueCarrier2 FlightNum2  \\\n",
       "0                 0         7  ATL  2008-04-05             FL         40   \n",
       "\n",
       "  CRSDepTimeHour2 CRSDepTimeMinute2 ArrDelay2    Z  \n",
       "0              18                52        -2  LAX  "
      ]
     },
     "metadata": {},
     "output_type": "display_data"
    },
    {
     "data": {
      "text/markdown": [
       "### PHX -> JFK -> MSP, 2008-09-07"
      ],
      "text/plain": [
       "<IPython.core.display.Markdown object>"
      ]
     },
     "metadata": {},
     "output_type": "display_data"
    },
    {
     "data": {
      "text/html": [
       "<div>\n",
       "<style scoped>\n",
       "    .dataframe tbody tr th:only-of-type {\n",
       "        vertical-align: middle;\n",
       "    }\n",
       "\n",
       "    .dataframe tbody tr th {\n",
       "        vertical-align: top;\n",
       "    }\n",
       "\n",
       "    .dataframe thead th {\n",
       "        text-align: right;\n",
       "    }\n",
       "</style>\n",
       "<table border=\"1\" class=\"dataframe\">\n",
       "  <thead>\n",
       "    <tr style=\"text-align: right;\">\n",
       "      <th></th>\n",
       "      <th>TotalArrDelay</th>\n",
       "      <th>X</th>\n",
       "      <th>FlightDate1</th>\n",
       "      <th>UniqueCarrier1</th>\n",
       "      <th>FlightNum1</th>\n",
       "      <th>CRSDepTimeHour1</th>\n",
       "      <th>CRSDepTimeMinute1</th>\n",
       "      <th>ArrDelay1</th>\n",
       "      <th>Y</th>\n",
       "      <th>FlightDate2</th>\n",
       "      <th>UniqueCarrier2</th>\n",
       "      <th>FlightNum2</th>\n",
       "      <th>CRSDepTimeHour2</th>\n",
       "      <th>CRSDepTimeMinute2</th>\n",
       "      <th>ArrDelay2</th>\n",
       "      <th>Z</th>\n",
       "    </tr>\n",
       "  </thead>\n",
       "  <tbody>\n",
       "    <tr>\n",
       "      <th>0</th>\n",
       "      <td>-42</td>\n",
       "      <td>PHX</td>\n",
       "      <td>2008-09-07</td>\n",
       "      <td>B6</td>\n",
       "      <td>178</td>\n",
       "      <td>11</td>\n",
       "      <td>30</td>\n",
       "      <td>-25</td>\n",
       "      <td>JFK</td>\n",
       "      <td>2008-09-09</td>\n",
       "      <td>NW</td>\n",
       "      <td>609</td>\n",
       "      <td>17</td>\n",
       "      <td>50</td>\n",
       "      <td>-17</td>\n",
       "      <td>MSP</td>\n",
       "    </tr>\n",
       "  </tbody>\n",
       "</table>\n",
       "</div>"
      ],
      "text/plain": [
       "  TotalArrDelay    X FlightDate1 UniqueCarrier1 FlightNum1 CRSDepTimeHour1  \\\n",
       "0           -42  PHX  2008-09-07             B6        178              11   \n",
       "\n",
       "  CRSDepTimeMinute1 ArrDelay1    Y FlightDate2 UniqueCarrier2 FlightNum2  \\\n",
       "0                30       -25  JFK  2008-09-09             NW        609   \n",
       "\n",
       "  CRSDepTimeHour2 CRSDepTimeMinute2 ArrDelay2    Z  \n",
       "0              17                50       -17  MSP  "
      ]
     },
     "metadata": {},
     "output_type": "display_data"
    },
    {
     "data": {
      "text/markdown": [
       "### DFW -> STL -> ORD, 2008-01-24"
      ],
      "text/plain": [
       "<IPython.core.display.Markdown object>"
      ]
     },
     "metadata": {},
     "output_type": "display_data"
    },
    {
     "data": {
      "text/html": [
       "<div>\n",
       "<style scoped>\n",
       "    .dataframe tbody tr th:only-of-type {\n",
       "        vertical-align: middle;\n",
       "    }\n",
       "\n",
       "    .dataframe tbody tr th {\n",
       "        vertical-align: top;\n",
       "    }\n",
       "\n",
       "    .dataframe thead th {\n",
       "        text-align: right;\n",
       "    }\n",
       "</style>\n",
       "<table border=\"1\" class=\"dataframe\">\n",
       "  <thead>\n",
       "    <tr style=\"text-align: right;\">\n",
       "      <th></th>\n",
       "      <th>TotalArrDelay</th>\n",
       "      <th>X</th>\n",
       "      <th>FlightDate1</th>\n",
       "      <th>UniqueCarrier1</th>\n",
       "      <th>FlightNum1</th>\n",
       "      <th>CRSDepTimeHour1</th>\n",
       "      <th>CRSDepTimeMinute1</th>\n",
       "      <th>ArrDelay1</th>\n",
       "      <th>Y</th>\n",
       "      <th>FlightDate2</th>\n",
       "      <th>UniqueCarrier2</th>\n",
       "      <th>FlightNum2</th>\n",
       "      <th>CRSDepTimeHour2</th>\n",
       "      <th>CRSDepTimeMinute2</th>\n",
       "      <th>ArrDelay2</th>\n",
       "      <th>Z</th>\n",
       "    </tr>\n",
       "  </thead>\n",
       "  <tbody>\n",
       "    <tr>\n",
       "      <th>0</th>\n",
       "      <td>-19</td>\n",
       "      <td>DFW</td>\n",
       "      <td>2008-01-24</td>\n",
       "      <td>AA</td>\n",
       "      <td>1336</td>\n",
       "      <td>7</td>\n",
       "      <td>5</td>\n",
       "      <td>-14</td>\n",
       "      <td>STL</td>\n",
       "      <td>2008-01-26</td>\n",
       "      <td>AA</td>\n",
       "      <td>2245</td>\n",
       "      <td>16</td>\n",
       "      <td>55</td>\n",
       "      <td>-5</td>\n",
       "      <td>ORD</td>\n",
       "    </tr>\n",
       "  </tbody>\n",
       "</table>\n",
       "</div>"
      ],
      "text/plain": [
       "  TotalArrDelay    X FlightDate1 UniqueCarrier1 FlightNum1 CRSDepTimeHour1  \\\n",
       "0           -19  DFW  2008-01-24             AA       1336               7   \n",
       "\n",
       "  CRSDepTimeMinute1 ArrDelay1    Y FlightDate2 UniqueCarrier2 FlightNum2  \\\n",
       "0                 5       -14  STL  2008-01-26             AA       2245   \n",
       "\n",
       "  CRSDepTimeHour2 CRSDepTimeMinute2 ArrDelay2    Z  \n",
       "0              16                55        -5  ORD  "
      ]
     },
     "metadata": {},
     "output_type": "display_data"
    },
    {
     "data": {
      "text/markdown": [
       "### LAX -> MIA -> LAX, 2008-05-16"
      ],
      "text/plain": [
       "<IPython.core.display.Markdown object>"
      ]
     },
     "metadata": {},
     "output_type": "display_data"
    },
    {
     "data": {
      "text/html": [
       "<div>\n",
       "<style scoped>\n",
       "    .dataframe tbody tr th:only-of-type {\n",
       "        vertical-align: middle;\n",
       "    }\n",
       "\n",
       "    .dataframe tbody tr th {\n",
       "        vertical-align: top;\n",
       "    }\n",
       "\n",
       "    .dataframe thead th {\n",
       "        text-align: right;\n",
       "    }\n",
       "</style>\n",
       "<table border=\"1\" class=\"dataframe\">\n",
       "  <thead>\n",
       "    <tr style=\"text-align: right;\">\n",
       "      <th></th>\n",
       "      <th>TotalArrDelay</th>\n",
       "      <th>X</th>\n",
       "      <th>FlightDate1</th>\n",
       "      <th>UniqueCarrier1</th>\n",
       "      <th>FlightNum1</th>\n",
       "      <th>CRSDepTimeHour1</th>\n",
       "      <th>CRSDepTimeMinute1</th>\n",
       "      <th>ArrDelay1</th>\n",
       "      <th>Y</th>\n",
       "      <th>FlightDate2</th>\n",
       "      <th>UniqueCarrier2</th>\n",
       "      <th>FlightNum2</th>\n",
       "      <th>CRSDepTimeHour2</th>\n",
       "      <th>CRSDepTimeMinute2</th>\n",
       "      <th>ArrDelay2</th>\n",
       "      <th>Z</th>\n",
       "    </tr>\n",
       "  </thead>\n",
       "  <tbody>\n",
       "    <tr>\n",
       "      <th>0</th>\n",
       "      <td>-9</td>\n",
       "      <td>LAX</td>\n",
       "      <td>2008-05-16</td>\n",
       "      <td>AA</td>\n",
       "      <td>280</td>\n",
       "      <td>8</td>\n",
       "      <td>20</td>\n",
       "      <td>10</td>\n",
       "      <td>MIA</td>\n",
       "      <td>2008-05-18</td>\n",
       "      <td>AA</td>\n",
       "      <td>456</td>\n",
       "      <td>19</td>\n",
       "      <td>30</td>\n",
       "      <td>-19</td>\n",
       "      <td>LAX</td>\n",
       "    </tr>\n",
       "  </tbody>\n",
       "</table>\n",
       "</div>"
      ],
      "text/plain": [
       "  TotalArrDelay    X FlightDate1 UniqueCarrier1 FlightNum1 CRSDepTimeHour1  \\\n",
       "0            -9  LAX  2008-05-16             AA        280               8   \n",
       "\n",
       "  CRSDepTimeMinute1 ArrDelay1    Y FlightDate2 UniqueCarrier2 FlightNum2  \\\n",
       "0                20        10  MIA  2008-05-18             AA        456   \n",
       "\n",
       "  CRSDepTimeHour2 CRSDepTimeMinute2 ArrDelay2    Z  \n",
       "0              19                30       -19  LAX  "
      ]
     },
     "metadata": {},
     "output_type": "display_data"
    }
   ],
   "source": [
    "for combo in [['BOS', 'ATL', 'LAX', '2008-04-03'], \\\n",
    "              ['PHX', 'JFK', 'MSP', '2008-09-07'], \\\n",
    "              ['DFW', 'STL', 'ORD', '2008-01-24'], \\\n",
    "              ['LAX', 'MIA', 'LAX', '2008-05-16']]:\n",
    "    display(Markdown('### ' + combo[0] + ' -> ' + combo[1] + ' -> ' + combo[2] + ', ' + str(combo[3])))\n",
    "    display(get32(*combo))"
   ]
  },
  {
   "cell_type": "code",
   "execution_count": null,
   "metadata": {},
   "outputs": [],
   "source": []
  }
 ],
 "metadata": {
  "kernelspec": {
   "display_name": "Python 3",
   "language": "python",
   "name": "python3"
  },
  "language_info": {
   "codemirror_mode": {
    "name": "ipython",
    "version": 3
   },
   "file_extension": ".py",
   "mimetype": "text/x-python",
   "name": "python",
   "nbconvert_exporter": "python",
   "pygments_lexer": "ipython3",
   "version": "3.7.1"
  }
 },
 "nbformat": 4,
 "nbformat_minor": 2
}
